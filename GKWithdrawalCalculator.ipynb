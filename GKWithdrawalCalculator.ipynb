{
 "cells": [
  {
   "cell_type": "markdown",
   "metadata": {},
   "source": [
    "# Guyton Klinger Withdrawal Calculator"
   ]
  },
  {
   "cell_type": "code",
   "execution_count": null,
   "metadata": {},
   "outputs": [],
   "source": [
    "Taxable = 1\n",
    "TaxDeferred = 1\n",
    "TaxFree = 1\n",
    "TotalAssets = Taxable + TaxDeferred + TaxFree\n",
    "\n",
    "WithdrawalPeriodsperYear = 24\n",
    "StartingWithdrawalPercent = 4\n",
    "\n"
   ]
  }
 ],
 "metadata": {
  "language_info": {
   "name": "python"
  },
  "orig_nbformat": 4
 },
 "nbformat": 4,
 "nbformat_minor": 2
}
