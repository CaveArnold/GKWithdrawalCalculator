{
 "cells": [
  {
   "cell_type": "markdown",
   "metadata": {},
   "source": [
    "# Guyton Klinger Withdrawal Calculator"
   ]
  },
  {
   "cell_type": "code",
   "execution_count": 1,
   "metadata": {},
   "outputs": [],
   "source": [
    "Taxable = 1\n",
    "TaxDeferred = 1\n",
    "TaxFree = 1\n",
    "TotalAssets = Taxable + TaxDeferred + TaxFree\n",
    "\n",
    "EstimatedTaxBracket = 22\n",
    "\n",
    "WithdrawalPeriodsPerYear = 24\n",
    "WithdrawalPeriod = 1\n",
    "StartingWithdrawalPercent = 4\n",
    "\n",
    "GKUpperGuardRailPercent = 20\n",
    "GKLowerGuardRailPercent = 20\n"
   ]
  }
 ],
 "metadata": {
  "kernelspec": {
   "display_name": "Python 3.11.0 64-bit",
   "language": "python",
   "name": "python3"
  },
  "language_info": {
   "codemirror_mode": {
    "name": "ipython",
    "version": 3
   },
   "file_extension": ".py",
   "mimetype": "text/x-python",
   "name": "python",
   "nbconvert_exporter": "python",
   "pygments_lexer": "ipython3",
   "version": "3.11.0"
  },
  "orig_nbformat": 4,
  "vscode": {
   "interpreter": {
    "hash": "5238573367df39f7286bb46f9ff5f08f63a01a80960060ce41e3c79b190280fa"
   }
  }
 },
 "nbformat": 4,
 "nbformat_minor": 2
}
